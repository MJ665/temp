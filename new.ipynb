{
 "cells": [
  {
   "cell_type": "code",
   "execution_count": 3,
   "id": "f55922e2-f514-480e-bded-c368d9ca2a45",
   "metadata": {},
   "outputs": [
    {
     "name": "stdout",
     "output_type": "stream",
     "text": [
      "hello\n"
     ]
    }
   ],
   "source": [
    "print (\"hello\")\n"
   ]
  },
  {
   "cell_type": "code",
   "execution_count": 1,
   "id": "91eb6f7a-1433-43ef-91e7-2bd064607e18",
   "metadata": {},
   "outputs": [],
   "source": [
    "import numpy as np\n"
   ]
  },
  {
   "cell_type": "code",
   "execution_count": 2,
   "id": "ffa4f809-4204-4c7f-beab-39af8e30c6bb",
   "metadata": {},
   "outputs": [
    {
     "data": {
      "text/plain": [
       "1"
      ]
     },
     "execution_count": 2,
     "metadata": {},
     "output_type": "execute_result"
    }
   ],
   "source": [
    "np.random.seed (101)\n",
    "np.random.randint(10)\n"
   ]
  },
  {
   "cell_type": "code",
   "execution_count": 9,
   "id": "4186c5f7-6dcf-4c9a-a80d-0d04be216562",
   "metadata": {},
   "outputs": [
    {
     "name": "stdout",
     "output_type": "stream",
     "text": [
      "1\n",
      "2\n",
      "ABC\n",
      "5245\n",
      "True\n",
      "23\n",
      "False\n",
      "4\n",
      "4\n",
      "32222\n"
     ]
    }
   ],
   "source": [
    "myList = [1,2,\"ABC\", 5245, True , 23 , False , 4,4,32222]\n",
    "for v in myList :\n",
    "    print (v)\n",
    "\n",
    "    "
   ]
  },
  {
   "cell_type": "code",
   "execution_count": null,
   "id": "bbd89cd9-c5af-468d-992f-c6677988efdc",
   "metadata": {},
   "outputs": [],
   "source": []
  },
  {
   "cell_type": "code",
   "execution_count": 8,
   "id": "78f047ed-1013-4dbb-9b4c-4d3e442971fa",
   "metadata": {},
   "outputs": [
    {
     "name": "stdout",
     "output_type": "stream",
     "text": [
      "1 \n",
      "1 0 \n",
      "1 0 1 \n",
      "1 0 1 0 \n",
      "1 0 1 0 1 \n"
     ]
    }
   ],
   "source": [
    "for i in range(1,6,1):#start,end(last+1),step is difference\n",
    "    for j in range(1,i+1,1):#print\n",
    "        print(j%2,end=\" \")#print\n",
    "    print()#next line\n"
   ]
  },
  {
   "cell_type": "code",
   "execution_count": 11,
   "id": "3c7fb05e-9077-4259-af9c-8e95ce169995",
   "metadata": {},
   "outputs": [
    {
     "name": "stdout",
     "output_type": "stream",
     "text": [
      "1 \n",
      "2 2 \n",
      "3 3 3 \n",
      "4 4 4 4 \n",
      "5 5 5 5 5 \n"
     ]
    }
   ],
   "source": [
    "\n",
    "#i controls j prints\n",
    "for i in range(1,6,1):#start,end(last+1),step is difference\n",
    "    for j in range(1,i+1,1):#print\n",
    "        print(i,end=\" \")#print\n",
    "    print()#next line"
   ]
  },
  {
   "cell_type": "code",
   "execution_count": 10,
   "id": "6534962f-1908-45ef-82fb-a2da46d27872",
   "metadata": {},
   "outputs": [
    {
     "name": "stdout",
     "output_type": "stream",
     "text": [
      "1 \n",
      "0 0 \n",
      "1 1 1 \n",
      "0 0 0 0 \n",
      "1 1 1 1 1 \n"
     ]
    }
   ],
   "source": [
    "for i in range(1,6,1):#start,end(last+1),step is difference\n",
    "    for j in range(1,i+1,1):#print\n",
    "        print(i%2,end=\" \")#print\n",
    "    print()#next line"
   ]
  },
  {
   "cell_type": "code",
   "execution_count": 7,
   "id": "2477543a-3d30-4a07-931b-92b400efe481",
   "metadata": {},
   "outputs": [
    {
     "name": "stdin",
     "output_type": "stream",
     "text": [
      "Enter character: 2\n",
      "Enter character: 3\n"
     ]
    },
    {
     "name": "stdout",
     "output_type": "stream",
     "text": [
      "2 \n",
      "2 3 \n"
     ]
    }
   ],
   "source": [
    "start=input(\"Enter character:\")\n",
    "end=input(\"Enter character:\")\n",
    "for i in range(ord(start),ord(end)+1,1):#start,end(last+1),step is difference\n",
    "    for j in range(ord(start),i+1,1):#print\n",
    "        print(chr(j),end=\" \")#print\n",
    "    print()#next line"
   ]
  },
  {
   "cell_type": "code",
   "execution_count": null,
   "id": "c630da21-8715-455a-9731-7a20fe4df1bb",
   "metadata": {},
   "outputs": [],
   "source": []
  },
  {
   "cell_type": "code",
   "execution_count": null,
   "id": "03f7410a-1a59-4fc8-a304-d6be7e1a3a23",
   "metadata": {},
   "outputs": [],
   "source": []
  },
  {
   "cell_type": "code",
   "execution_count": null,
   "id": "86e31a35-3d07-444f-8c42-45a2899c80fe",
   "metadata": {},
   "outputs": [],
   "source": []
  },
  {
   "cell_type": "code",
   "execution_count": 20,
   "id": "7072bc69-21d9-4206-af3c-7fe3d94a946c",
   "metadata": {},
   "outputs": [
    {
     "data": {
      "text/plain": [
       "{'brand': 'tata', 'model': 'harrier'}"
      ]
     },
     "execution_count": 20,
     "metadata": {},
     "output_type": "execute_result"
    }
   ],
   "source": [
    "b= {\"brand\":\"tata\",\n",
    "\"model\":\"harrier\"\n",
    "}\n",
    "\n",
    "\n",
    "accuracyfCar = [\n"
   ]
  },
  {
   "cell_type": "code",
   "execution_count": null,
   "id": "1256d105-7cf5-4ca7-b7d6-e4284362c20a",
   "metadata": {},
   "outputs": [],
   "source": []
  },
  {
   "cell_type": "code",
   "execution_count": 18,
   "id": "0cd57cb3-485f-46e9-88b6-7a9142832222",
   "metadata": {},
   "outputs": [],
   "source": [
    "import numpy as np\n"
   ]
  },
  {
   "cell_type": "code",
   "execution_count": 19,
   "id": "67a1556e-5baf-4aa5-93f5-804afdc87782",
   "metadata": {},
   "outputs": [
    {
     "data": {
      "text/plain": [
       "array([[-1.65095862,  0.28097538, -0.36360501, -0.46391548,  0.95204732,\n",
       "        -0.55624014,  0.59811166, -0.97257815, -0.78760337, -0.28886307,\n",
       "         0.64609922,  0.22388695],\n",
       "       [-0.10286395,  0.76171957, -1.3996619 ,  0.59289741, -0.80346406,\n",
       "         0.62185956, -1.5767209 , -0.68720352, -0.78556768,  2.05150015,\n",
       "         0.87054065,  0.42937119],\n",
       "       [-0.46287212,  0.84979703,  1.01342178, -0.61442435,  0.03740277,\n",
       "        -0.46075702,  0.76734905,  0.47047325, -0.22629756,  0.52081784,\n",
       "         0.39450181, -1.03359139],\n",
       "       [ 0.05557532,  0.1238237 , -0.69403151, -2.54541983, -0.45559102,\n",
       "         0.19143795, -1.33353295, -0.74272021,  2.14706051, -0.554631  ,\n",
       "         0.94004852,  0.06828527],\n",
       "       [ 0.10934213, -0.63310134, -0.11749859,  0.39482628,  0.3349509 ,\n",
       "         0.25704539, -0.59956329,  0.21556684, -1.58162802, -1.7599741 ,\n",
       "        -0.07316685,  0.04748526],\n",
       "       [-0.60751102, -1.12582447,  0.54830706, -0.2893815 , -2.24142455,\n",
       "         0.63815677,  2.42159914, -1.33031803,  0.31209603,  0.38172737,\n",
       "        -0.19514578,  0.14145458],\n",
       "       [ 0.08330066,  0.02755529,  0.61565919,  0.43248451,  0.63644438,\n",
       "        -2.42570436, -1.5927849 , -0.28303497,  0.88876154,  0.34532891,\n",
       "         0.77944741, -0.81411815],\n",
       "       [ 0.29081765,  1.12341464, -0.67703892,  0.50081397,  1.58255585,\n",
       "         1.3890387 ,  0.00410116,  0.1626144 , -0.59465611,  0.92369729,\n",
       "        -0.71310624,  0.03455971],\n",
       "       [ 0.3556867 , -0.45942358, -1.43907738, -0.59369417, -1.01730025,\n",
       "        -2.35549546,  1.14993553, -0.37518891, -0.08103783, -0.68977679,\n",
       "         0.37324326,  0.1584101 ],\n",
       "       [-1.2006992 , -1.06818629, -0.25103165, -0.47426069,  0.04518087,\n",
       "        -0.85801726, -0.57666405,  0.69181469, -0.05463537,  0.91029714,\n",
       "         1.55053009, -0.92448548],\n",
       "       [ 1.74486071, -0.05414077, -0.09426886, -0.42905938, -0.68981883,\n",
       "         0.33627486,  2.53862309,  0.15179047,  1.58072684,  1.43277012,\n",
       "        -1.26535293,  0.30624023],\n",
       "       [ 0.72434592, -0.04750582, -1.37727582,  0.46969981,  0.36525807,\n",
       "         0.07163997,  0.21982463,  0.15283579, -0.36728185, -0.74797246,\n",
       "        -0.48200631,  1.42889096],\n",
       "       [-1.74301807,  0.29713407, -0.51655007, -1.20457568, -1.80249662,\n",
       "         0.41978243,  1.00674996, -1.56333938,  0.46407288, -2.4472221 ,\n",
       "        -1.12460921, -0.79019449]])"
      ]
     },
     "execution_count": 19,
     "metadata": {},
     "output_type": "execute_result"
    }
   ],
   "source": [
    "np.random.seed(191)\n",
    "np.random.randn(13,12)\n"
   ]
  },
  {
   "cell_type": "code",
   "execution_count": null,
   "id": "a5160da1-d6e3-4333-a64b-e84e37a27c60",
   "metadata": {},
   "outputs": [],
   "source": []
  },
  {
   "cell_type": "code",
   "execution_count": null,
   "id": "a53668e8-68eb-4440-b978-2a425c374ef8",
   "metadata": {},
   "outputs": [],
   "source": []
  },
  {
   "cell_type": "code",
   "execution_count": null,
   "id": "9982a8f7-9893-46a7-93e2-d58046f2e417",
   "metadata": {},
   "outputs": [],
   "source": []
  },
  {
   "cell_type": "code",
   "execution_count": null,
   "id": "778f0cdd-977d-43e9-9783-0b7629843130",
   "metadata": {},
   "outputs": [],
   "source": []
  },
  {
   "cell_type": "code",
   "execution_count": null,
   "id": "d27382b7-2a45-40c8-93a4-65103494a163",
   "metadata": {},
   "outputs": [],
   "source": []
  },
  {
   "cell_type": "code",
   "execution_count": null,
   "id": "8d7b6a61-7162-4d2d-91cc-e0f7ba6c0c8c",
   "metadata": {},
   "outputs": [],
   "source": []
  },
  {
   "cell_type": "code",
   "execution_count": null,
   "id": "00e2c5b0-be6f-4b9d-8732-5891dd2af7c5",
   "metadata": {},
   "outputs": [],
   "source": []
  },
  {
   "cell_type": "code",
   "execution_count": null,
   "id": "5549ab95-b3f0-4419-9620-55111f99b99c",
   "metadata": {},
   "outputs": [],
   "source": []
  }
 ],
 "metadata": {
  "kernelspec": {
   "display_name": "Python 3 (ipykernel)",
   "language": "python",
   "name": "python3"
  },
  "language_info": {
   "codemirror_mode": {
    "name": "ipython",
    "version": 3
   },
   "file_extension": ".py",
   "mimetype": "text/x-python",
   "name": "python",
   "nbconvert_exporter": "python",
   "pygments_lexer": "ipython3",
   "version": "3.9.6"
  }
 },
 "nbformat": 4,
 "nbformat_minor": 5
}
